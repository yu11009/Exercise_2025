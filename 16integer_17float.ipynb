{
  "nbformat": 4,
  "nbformat_minor": 0,
  "metadata": {
    "colab": {
      "provenance": [],
      "authorship_tag": "ABX9TyOcfgSjkm0sLMYaLpEq8yDw",
      "include_colab_link": true
    },
    "kernelspec": {
      "name": "python3",
      "display_name": "Python 3"
    },
    "language_info": {
      "name": "python"
    }
  },
  "cells": [
    {
      "cell_type": "markdown",
      "metadata": {
        "id": "view-in-github",
        "colab_type": "text"
      },
      "source": [
        "<a href=\"https://colab.research.google.com/github/yu11009/Exercise_2025/blob/main/16integer_17float.ipynb\" target=\"_parent\"><img src=\"https://colab.research.google.com/assets/colab-badge.svg\" alt=\"Open In Colab\"/></a>"
      ]
    },
    {
      "cell_type": "code",
      "execution_count": 1,
      "metadata": {
        "colab": {
          "base_uri": "https://localhost:8080/"
        },
        "id": "WpX_pax40NKn",
        "outputId": "275fc644-6add-4192-da69-e9343cf998d7"
      },
      "outputs": [
        {
          "output_type": "stream",
          "name": "stdout",
          "text": [
            "10\n",
            "2\n",
            "8\n",
            "16\n",
            "1234567890123456789\n"
          ]
        }
      ],
      "source": [
        "#016 정수형 자료\n",
        "\n",
        "int_data = 10\n",
        "bin_data = 0b10\n",
        "oct_data = 0o10\n",
        "hex_data = 0x10\n",
        "long_data = 1234567890123456789\n",
        "\n",
        "print(int_data)\n",
        "print(bin_data)\n",
        "print(oct_data)\n",
        "print(hex_data)\n",
        "print(long_data)"
      ]
    },
    {
      "cell_type": "code",
      "source": [
        "#017 실수형 자료\n",
        "\n",
        "f1 = 1.0\n",
        "f2 = 3.14\n",
        "f3 = 1.56e3\n",
        "f4 = -0.7e-4\n",
        "\n",
        "print(f1)\n",
        "print(f2)\n",
        "print(f3)\n",
        "print(f4)"
      ],
      "metadata": {
        "colab": {
          "base_uri": "https://localhost:8080/"
        },
        "id": "onhQF1Ru0tEu",
        "outputId": "49f9e8c7-f832-447b-8c57-967158f7c52b"
      },
      "execution_count": 3,
      "outputs": [
        {
          "output_type": "stream",
          "name": "stdout",
          "text": [
            "1.0\n",
            "3.14\n",
            "1560.0\n",
            "-7e-05\n"
          ]
        }
      ]
    }
  ]
}