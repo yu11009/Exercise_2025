{
  "nbformat": 4,
  "nbformat_minor": 0,
  "metadata": {
    "colab": {
      "provenance": [],
      "authorship_tag": "ABX9TyOKVTmnL/6NNWitytXWnDIa",
      "include_colab_link": true
    },
    "kernelspec": {
      "name": "python3",
      "display_name": "Python 3"
    },
    "language_info": {
      "name": "python"
    }
  },
  "cells": [
    {
      "cell_type": "markdown",
      "metadata": {
        "id": "view-in-github",
        "colab_type": "text"
      },
      "source": [
        "<a href=\"https://colab.research.google.com/github/yu11009/Exercise_2025/blob/main/4variable_5annotation.ipynb\" target=\"_parent\"><img src=\"https://colab.research.google.com/assets/colab-badge.svg\" alt=\"Open In Colab\"/></a>"
      ]
    },
    {
      "cell_type": "code",
      "execution_count": 2,
      "metadata": {
        "colab": {
          "base_uri": "https://localhost:8080/"
        },
        "id": "iM1zELQJV6Zb",
        "outputId": "5028088a-d4a6-4a85-8e31-c427acf2cbc6"
      },
      "outputs": [
        {
          "output_type": "stream",
          "name": "stdout",
          "text": [
            "1\n",
            "3.14\n",
            "True\n",
            "x\n",
            "I love Python\n",
            "3\n",
            "Hello\n"
          ]
        }
      ],
      "source": [
        "#004 변수\n",
        "\n",
        "number1 = 1\n",
        "pi = 3.14\n",
        "flag = True\n",
        "char = 'x'\n",
        "chars = 'I love Python'\n",
        "\n",
        "print(number1)\n",
        "print(pi)\n",
        "print(flag)\n",
        "print(char)\n",
        "print(chars)\n",
        "\n",
        "number = 1\n",
        "number = number + 2\n",
        "print(number)\n",
        "number = 'Hello'\n",
        "print(number)"
      ]
    },
    {
      "cell_type": "code",
      "source": [
        "#005 주석\n",
        "\n",
        "#주석 기호\n",
        "#만든 날짜 2025.09.09\n",
        "a = 1 #a에 1을 대입\n",
        "b = 5 #b에 5를 대입\n",
        "print(a+b) #a+b의 결과를 출력\n",
        "\n",
        "#삼중 따옴표로 특정 영역 주석 처리\n",
        "\"\"\"\n",
        "a = 1\n",
        "b = 5\n",
        "print(a+b)\n",
        "\"\"\"\n",
        "a = 2\n",
        "b = 6\n",
        "print(a+b)"
      ],
      "metadata": {
        "colab": {
          "base_uri": "https://localhost:8080/"
        },
        "id": "T5RM0TqaWIXZ",
        "outputId": "ccf00476-c6ab-4b4e-ea7d-cb510f0e2e16"
      },
      "execution_count": 3,
      "outputs": [
        {
          "output_type": "stream",
          "name": "stdout",
          "text": [
            "6\n",
            "8\n"
          ]
        }
      ]
    }
  ]
}