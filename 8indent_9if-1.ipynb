{
  "nbformat": 4,
  "nbformat_minor": 0,
  "metadata": {
    "colab": {
      "provenance": [],
      "authorship_tag": "ABX9TyM9BVBpYqL5BqtD+mA3xO6M",
      "include_colab_link": true
    },
    "kernelspec": {
      "name": "python3",
      "display_name": "Python 3"
    },
    "language_info": {
      "name": "python"
    }
  },
  "cells": [
    {
      "cell_type": "markdown",
      "metadata": {
        "id": "view-in-github",
        "colab_type": "text"
      },
      "source": [
        "<a href=\"https://colab.research.google.com/github/yu11009/Exercise_2025/blob/main/8indent_9if-1.ipynb\" target=\"_parent\"><img src=\"https://colab.research.google.com/assets/colab-badge.svg\" alt=\"Open In Colab\"/></a>"
      ]
    },
    {
      "cell_type": "code",
      "execution_count": null,
      "metadata": {
        "id": "Grc8D_PpvBUi"
      },
      "outputs": [],
      "source": [
        "#008 들여쓰기\n",
        "\n",
        "listdata = ['a','b','c']\n",
        "if 'a' in listdata:\n",
        "    print('a가 listdata 안에 있습니다.')\n",
        "    print(listdat)\n",
        "else:\n",
        "    print('a가 listdata 안에 없습니다.')"
      ]
    },
    {
      "cell_type": "code",
      "source": [
        "#009 if문-1\n",
        "\n",
        "x = 1\n",
        "y = 2\n",
        "if x >=y:\n",
        "    print('x가 y보다 크거나 같습니다.')\n",
        "else:\n",
        "    print('x가 y보다 작습니다.')"
      ],
      "metadata": {
        "id": "b7PKFfIEvnOX"
      },
      "execution_count": null,
      "outputs": []
    }
  ]
}