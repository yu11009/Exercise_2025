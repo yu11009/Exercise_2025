{
  "nbformat": 4,
  "nbformat_minor": 0,
  "metadata": {
    "colab": {
      "provenance": [],
      "authorship_tag": "ABX9TyP4VG0ZMcGPKT+wz958IDso",
      "include_colab_link": true
    },
    "kernelspec": {
      "name": "python3",
      "display_name": "Python 3"
    },
    "language_info": {
      "name": "python"
    }
  },
  "cells": [
    {
      "cell_type": "markdown",
      "metadata": {
        "id": "view-in-github",
        "colab_type": "text"
      },
      "source": [
        "<a href=\"https://colab.research.google.com/github/yu11009/Exercise_2025/blob/main/6data_7print.ipynb\" target=\"_parent\"><img src=\"https://colab.research.google.com/assets/colab-badge.svg\" alt=\"Open In Colab\"/></a>"
      ]
    },
    {
      "cell_type": "code",
      "execution_count": 2,
      "metadata": {
        "colab": {
          "base_uri": "https://localhost:8080/"
        },
        "id": "6TbQwUNEY1FU",
        "outputId": "c5cb9659-a624-4f09-d346-933690c275cd"
      },
      "outputs": [
        {
          "output_type": "stream",
          "name": "stdout",
          "text": [
            "1\n",
            "3.14\n",
            "(1+5j)\n",
            "Hello World!\n",
            "안녕하세요.\n",
            "[1, 2, 3]\n",
            "(1, 2, 3)\n",
            "{0: 'False', 1: 'True'}\n"
          ]
        }
      ],
      "source": [
        "#006 자료형\n",
        "\n",
        "int_data = 1 #정수\n",
        "flat_data = 3.14 #실수\n",
        "complex_data = 1+5j #복소수\n",
        "str_data1 = \"Hello World!\" #문자열(영)\n",
        "str_data2 = \"안녕하세요.\" #문자열(한)\n",
        "list_data = [1,2,3] #리스트\n",
        "tuple_data = (1,2,3) #튜플\n",
        "dict_data = {0:\"False\", 1:\"True\"} #사전\n",
        "\n",
        "print(int_data)\n",
        "print(flat_data)\n",
        "print(complex_data)\n",
        "print(str_data1)\n",
        "print(str_data2)\n",
        "print(list_data)\n",
        "print(tuple_data)\n",
        "print(dict_data)"
      ]
    },
    {
      "cell_type": "code",
      "source": [
        "#007 자료형 출력\n",
        "\n",
        "a = 200\n",
        "msg = \"Hello World!\"\n",
        "list_data = [\"a\", \"b\", \"c\"]\n",
        "dict_data = {\"a\":97, \"b\":98}\n",
        "\n",
        "print(a)\n",
        "print(msg)\n",
        "print(list_data)\n",
        "print(list_data[0])\n",
        "print(list_data[2])\n",
        "print(dict_data)\n",
        "print(dict_data[\"a\"])\n",
        "print(dict_data[\"b\"])"
      ],
      "metadata": {
        "id": "xWcjSKu7Zvjg"
      },
      "execution_count": null,
      "outputs": []
    }
  ]
}