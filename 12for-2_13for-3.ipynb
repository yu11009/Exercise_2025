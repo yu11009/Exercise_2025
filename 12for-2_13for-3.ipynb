{
  "nbformat": 4,
  "nbformat_minor": 0,
  "metadata": {
    "colab": {
      "provenance": [],
      "authorship_tag": "ABX9TyPrBFZvNsbNPEbbhYVns28p",
      "include_colab_link": true
    },
    "kernelspec": {
      "name": "python3",
      "display_name": "Python 3"
    },
    "language_info": {
      "name": "python"
    }
  },
  "cells": [
    {
      "cell_type": "markdown",
      "metadata": {
        "id": "view-in-github",
        "colab_type": "text"
      },
      "source": [
        "<a href=\"https://colab.research.google.com/github/yu11009/Exercise_2025/blob/main/12for-2_13for-3.ipynb\" target=\"_parent\"><img src=\"https://colab.research.google.com/assets/colab-badge.svg\" alt=\"Open In Colab\"/></a>"
      ]
    },
    {
      "cell_type": "code",
      "execution_count": 1,
      "metadata": {
        "colab": {
          "base_uri": "https://localhost:8080/"
        },
        "id": "Neq0wG3ZyPMa",
        "outputId": "78d53bf1-2e47-4ad8-ed43-5368cc67167b"
      },
      "outputs": [
        {
          "output_type": "stream",
          "name": "stdout",
          "text": [
            "1\n",
            "2\n",
            "3\n"
          ]
        }
      ],
      "source": [
        "#012 for문-2\n",
        "\n",
        "scope = [1,2,3,4,5]\n",
        "for x in scope:\n",
        "  print(x)\n",
        "  if x < 3:\n",
        "    continue #다음 반복문 수행\n",
        "  else:\n",
        "    break #반복문 탈출"
      ]
    },
    {
      "cell_type": "code",
      "source": [
        "#013 for문-3\n",
        "\n",
        "scope = [1,2,3,]\n",
        "for x in scope:\n",
        "  print(x)\n",
        "  break\n",
        "else:\n",
        "  print('Perfect') #반복문 모두 실행 후 실행"
      ],
      "metadata": {
        "colab": {
          "base_uri": "https://localhost:8080/"
        },
        "id": "Q8iwsSH0ye9A",
        "outputId": "eb01a0f8-dad5-4659-f1ca-df5a6ed23c6d"
      },
      "execution_count": 7,
      "outputs": [
        {
          "output_type": "stream",
          "name": "stdout",
          "text": [
            "1\n"
          ]
        }
      ]
    }
  ]
}