{
  "nbformat": 4,
  "nbformat_minor": 0,
  "metadata": {
    "colab": {
      "provenance": [],
      "authorship_tag": "ABX9TyMMTrPj4RfszKhmU87xVNNX",
      "include_colab_link": true
    },
    "kernelspec": {
      "name": "python3",
      "display_name": "Python 3"
    },
    "language_info": {
      "name": "python"
    }
  },
  "cells": [
    {
      "cell_type": "markdown",
      "metadata": {
        "id": "view-in-github",
        "colab_type": "text"
      },
      "source": [
        "<a href=\"https://colab.research.google.com/github/yu11009/Exercise_2025/blob/main/10if-2_11for-1.ipynb\" target=\"_parent\"><img src=\"https://colab.research.google.com/assets/colab-badge.svg\" alt=\"Open In Colab\"/></a>"
      ]
    },
    {
      "cell_type": "code",
      "execution_count": 1,
      "metadata": {
        "colab": {
          "base_uri": "https://localhost:8080/"
        },
        "id": "U-IaKKMFxG0Z",
        "outputId": "34c4f70f-7e3b-4d7b-a7f7-6469f7bd29dd"
      },
      "outputs": [
        {
          "output_type": "stream",
          "name": "stdout",
          "text": [
            "x가 y보다 작습니다.\n"
          ]
        }
      ],
      "source": [
        "#010 if문-2\n",
        "\n",
        "x = 1\n",
        "y = 2\n",
        "if x > y: #조건1\n",
        "  print('x가 y보다 큽니다.')\n",
        "elif x < y: #조건2\n",
        "  print('x가 y보다 작습니다.')\n",
        "else: #모두 거짓일 떄\n",
        "  print('x와 y가 같습니다.')"
      ]
    },
    {
      "cell_type": "code",
      "source": [
        "#011 for문-1\n",
        "\n",
        "scope = [1,2,3,4,5]\n",
        "for x in scope: #for 변수 in 범위\n",
        "  print(x) #반복 코드"
      ],
      "metadata": {
        "colab": {
          "base_uri": "https://localhost:8080/"
        },
        "id": "DGgA5cInxrAH",
        "outputId": "6d9e3c4d-878b-406d-8902-5bb6c2bbe9fa"
      },
      "execution_count": 2,
      "outputs": [
        {
          "output_type": "stream",
          "name": "stdout",
          "text": [
            "1\n",
            "2\n",
            "3\n",
            "4\n",
            "5\n"
          ]
        }
      ]
    }
  ]
}